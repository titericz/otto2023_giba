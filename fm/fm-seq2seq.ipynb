{
 "cells": [
  {
   "cell_type": "code",
   "execution_count": null,
   "id": "0102a928",
   "metadata": {},
   "outputs": [],
   "source": [
    "import os\n",
    "os.environ[\"CUDA_VISIBLE_DEVICES\"]=\"2\"\n",
    "import gc\n",
    "import math\n",
    "import time\n",
    "import pickle\n",
    "import random\n",
    "import numpy as np\n",
    "import pandas as pd\n",
    "from tqdm import tqdm\n",
    "from glob import glob\n",
    "pd.options.display.max_rows = 1000\n",
    "from sklearn.metrics import roc_auc_score\n",
    "\n",
    "import cudf\n",
    "\n",
    "import torch\n",
    "import torch.nn as nn\n",
    "import torch.optim as optim\n",
    "from torch.nn import functional as F\n",
    "from torch.optim import SparseAdam, Adam\n",
    "from torch.utils.data import Dataset, DataLoader\n",
    "torch.backends.cudnn.benchmark = True\n",
    "print(torch.__version__)\n",
    "\n",
    "def freemem(df):\n",
    "    for col in df.columns:\n",
    "        if df[col].dtype == 'int64':\n",
    "            df[col] = df[col].astype('int32')\n",
    "        elif df[col].dtype == 'float64':\n",
    "            df[col] = df[col].astype('float32')\n",
    "    gc.collect()\n",
    "    return\n",
    "\n",
    "device = 'cuda'\n",
    "USE_GPU = torch.cuda.is_available()\n",
    "print('Is GPU available?', USE_GPU)"
   ]
  },
  {
   "cell_type": "code",
   "execution_count": null,
   "id": "254fb110",
   "metadata": {},
   "outputs": [],
   "source": [
    "# point to all your training parquet files\n",
    "files = (\n",
    "    list(glob('fold/train-split*')) +\n",
    "    list(glob('fold/valid-split*')) +\n",
    "    list(glob('fold/test-split*'))\n",
    ")\n",
    "print(len(files))"
   ]
  },
  {
   "cell_type": "code",
   "execution_count": null,
   "id": "1838e863",
   "metadata": {
    "scrolled": true,
    "tags": []
   },
   "outputs": [],
   "source": [
    "train = pd.read_parquet(files)\n",
    "train = cudf.from_pandas(train); gc.collect()\n",
    "train = train.sort_values(['session', 'ts'], ascending=[True, True]).reset_index(drop=True)\n",
    "freemem(train)\n",
    "\n",
    "print(train.shape)\n",
    "train.head()"
   ]
  },
  {
   "cell_type": "code",
   "execution_count": null,
   "id": "772b07af",
   "metadata": {
    "scrolled": true
   },
   "outputs": [],
   "source": [
    "train[f'ts_diff'] = train.groupby('session')['ts'].shift(1).fillna(0).astype('int32')\n",
    "train[f'ts_diff'] = (train[f'ts'] - train[f'ts_diff'])\n",
    "train[f'ts_diff'] = train[f'ts_diff'].clip(0, 24*60*60)\n",
    "train.loc[train.ts_diff<2*60*60 , f'ts_diff'] = 0\n",
    "train.loc[train.ts_diff>=2*60*60 , f'ts_diff'] = 1\n",
    "gc.collect()\n",
    "train[f'subses'] = train.groupby('session')['ts_diff'].cumsum()\n",
    "train[f'subses'] = (train[f'session']*128 + train[f'subses']).factorize()[0]\n",
    "print(train[f'ts_diff'].mean())\n",
    "train.head(60)"
   ]
  },
  {
   "cell_type": "code",
   "execution_count": null,
   "id": "8d0bcce0",
   "metadata": {
    "scrolled": true
   },
   "outputs": [],
   "source": [
    "for lag in range(11):\n",
    "    train[f'lag{lag}'] = train.groupby('subses')['aid'].shift(lag).fillna(-1).astype('int32')\n",
    "    gc.collect()\n",
    "    \n",
    "del train['aid']\n",
    "gc.collect()\n",
    "freemem(train); gc.collect()\n",
    "\n",
    "train.head(60)"
   ]
  },
  {
   "cell_type": "code",
   "execution_count": null,
   "id": "ce5b7450",
   "metadata": {
    "scrolled": true
   },
   "outputs": [],
   "source": [
    "print(train.shape)\n",
    "del train['ts_diff']; gc.collect()\n",
    "\n",
    "train = train.loc[(train['type'] == 0) & (train['lag1'] >= 0)].reset_index(drop=True)\n",
    "del train['type']\n",
    "gc.collect()\n",
    "\n",
    "print(train.shape)\n",
    "train.head(60)"
   ]
  },
  {
   "cell_type": "code",
   "execution_count": null,
   "id": "43e0a725",
   "metadata": {
    "scrolled": true
   },
   "outputs": [],
   "source": [
    "train['hour'] = ((train['ts']-train['ts'].min()) // (8*60*60)).astype('int8') \n",
    "del train['ts'], train['subses']\n",
    "gc.collect()\n",
    "train.tail(20)"
   ]
  },
  {
   "cell_type": "code",
   "execution_count": null,
   "id": "da7fe735",
   "metadata": {},
   "outputs": [],
   "source": [
    "train['hour'].max()"
   ]
  },
  {
   "cell_type": "code",
   "execution_count": null,
   "id": "bb83d55d",
   "metadata": {},
   "outputs": [],
   "source": [
    "gc.collect()\n",
    "train.to_pandas().to_parquet('train-proc-1.parquet'); gc.collect()"
   ]
  },
  {
   "cell_type": "code",
   "execution_count": null,
   "id": "d17011b2",
   "metadata": {},
   "outputs": [],
   "source": []
  },
  {
   "cell_type": "code",
   "execution_count": null,
   "id": "94d53f41",
   "metadata": {},
   "outputs": [],
   "source": []
  },
  {
   "cell_type": "markdown",
   "id": "f20ed363",
   "metadata": {},
   "source": [
    "# Reload the DataFrame using RAM to save GPU memory for the model."
   ]
  },
  {
   "cell_type": "code",
   "execution_count": null,
   "id": "7b3cb5a7",
   "metadata": {},
   "outputs": [],
   "source": [
    "train = pd.read_parquet('train-proc-1.parquet'); gc.collect()\n",
    "print(train.shape)\n",
    "print(train.head())"
   ]
  },
  {
   "cell_type": "code",
   "execution_count": null,
   "id": "30485cc2",
   "metadata": {},
   "outputs": [],
   "source": [
    "for i in range(1, 11):\n",
    "    print(i)\n",
    "    train[f'lag{i}'] = train[f'lag{i}'].clip(0, None)\n",
    "print(train.head())"
   ]
  },
  {
   "cell_type": "code",
   "execution_count": null,
   "id": "2a112c2a",
   "metadata": {},
   "outputs": [],
   "source": [
    "train['lag0'].max()"
   ]
  },
  {
   "cell_type": "code",
   "execution_count": null,
   "id": "32a2eb7f",
   "metadata": {},
   "outputs": [],
   "source": [
    "train.columns"
   ]
  },
  {
   "cell_type": "code",
   "execution_count": null,
   "id": "5c287dd7",
   "metadata": {},
   "outputs": [],
   "source": [
    "train['hour'] = train['hour'].astype('int32') + 1855602 + 1\n",
    "train.head()"
   ]
  },
  {
   "cell_type": "markdown",
   "id": "93635997",
   "metadata": {},
   "source": [
    "# Define the FM model"
   ]
  },
  {
   "cell_type": "code",
   "execution_count": null,
   "id": "74003b11",
   "metadata": {},
   "outputs": [],
   "source": [
    "class MatrixFactorization(nn.Module):\n",
    "    def __init__(self, n_aids=1855602+1, n_factors=32):\n",
    "        super().__init__()\n",
    "        self.aid_emb = nn.Embedding(1855602+128, n_factors, sparse=False)\n",
    "        self.aid_emb.weight.data.normal_(mean=0.0, std=0.001)\n",
    "        self.head = nn.Linear(11, 1)\n",
    "        \n",
    "    def forward(self, lags, targets):\n",
    "        targets = torch.repeat_interleave(targets.view(-1,1), lags.shape[1], dim=1)\n",
    "        tgt = self.aid_emb(targets)\n",
    "        tgt = torch.nn.functional.normalize(tgt, p=2.0, dim=2, eps=1e-12)\n",
    "        \n",
    "        e1 = self.aid_emb(lags) \n",
    "        e1 = torch.nn.functional.normalize(e1, p=2.0, dim=2, eps=1e-12)\n",
    "        e1 = e1 * tgt\n",
    "        e1 = e1.sum(2)\n",
    "        \n",
    "        out = self.head(e1)\n",
    "        return out.sigmoid()\n",
    "\n",
    "\n",
    "model = MatrixFactorization(n_aids=1855602+1, n_factors=32)\n",
    "model.train()"
   ]
  },
  {
   "cell_type": "markdown",
   "id": "0b14663d",
   "metadata": {},
   "source": [
    "# Try the model"
   ]
  },
  {
   "cell_type": "code",
   "execution_count": null,
   "id": "8ef15e9c",
   "metadata": {},
   "outputs": [],
   "source": [
    "lags = (1855603 * torch.rand(9, 11)).long()\n",
    "targets = (1855603 * torch.rand(9)).long()\n",
    "\n",
    "lags, targets#, hours"
   ]
  },
  {
   "cell_type": "code",
   "execution_count": null,
   "id": "4f6ddafa",
   "metadata": {},
   "outputs": [],
   "source": [
    "model(lags, targets)"
   ]
  },
  {
   "cell_type": "code",
   "execution_count": null,
   "id": "6fc80f30",
   "metadata": {},
   "outputs": [],
   "source": [
    "train.head()"
   ]
  },
  {
   "cell_type": "code",
   "execution_count": null,
   "id": "011b135d",
   "metadata": {},
   "outputs": [],
   "source": [
    "def train_loop(model, iterator, optimizer, clip):\n",
    "    \n",
    "    criterion = nn.BCELoss().to(device)\n",
    "    model.train()\n",
    "    epoch_loss = 0.\n",
    "    gc.collect()\n",
    "    with tqdm(enumerate(iterator), total=len(iterator), miniters=100) as pbar:\n",
    "        for i, (data, target) in pbar:    \n",
    "            data, target = data.to(device), target.to(device)\n",
    "            \n",
    "            optimizer.zero_grad()\n",
    "            output_pos = model(data, target[:,0])\n",
    "            \n",
    "            #Shuffle target to build negative samples\n",
    "            target = target[torch.randperm(target.shape[0])]\n",
    "            output_neg = model(data, target[:,0])\n",
    "            \n",
    "            outputs = torch.cat([output_pos, output_neg])\n",
    "            targets = torch.cat([torch.ones_like(output_pos), torch.zeros_like(output_neg)])\n",
    "            loss = criterion(outputs, targets)\n",
    "            \n",
    "            del data, target\n",
    "\n",
    "            loss.backward()\n",
    "            #torch.nn.utils.clip_grad_norm_(model.parameters(), clip)\n",
    "            optimizer.step()\n",
    "\n",
    "            epoch_loss += loss.item()\n",
    "            cumloss = epoch_loss / (i+1)\n",
    "            pbar.set_description(f\"Loss {cumloss:.5f}\")\n",
    "    \n",
    "    gc.collect()  \n",
    "    return epoch_loss / len(iterator)\n",
    "\n",
    "\n",
    "def valid_loop(model, iterator):\n",
    "    ypred = []\n",
    "    ytarget = []    \n",
    "    epoch_loss = 0.\n",
    "\n",
    "    model.eval()\n",
    "    criterion = nn.BCELoss().to(device)\n",
    "    with torch.no_grad():\n",
    "        with tqdm(enumerate(iterator), total=len(iterator), miniters=50) as pbar:\n",
    "            for i, (data, target) in pbar:    \n",
    "                data, target = data.to(device), target.to(device)\n",
    "\n",
    "                output_pos = model(data, target[:,0])\n",
    "\n",
    "                #Shuffle target to build negative samples\n",
    "                target = target[torch.randperm(target.shape[0])]\n",
    "                output_neg = model(data, target[:,0])\n",
    "\n",
    "                outputs = torch.cat([output_pos, output_neg])\n",
    "                targets = torch.cat([torch.ones_like(output_pos), torch.zeros_like(output_neg)])\n",
    "                loss = criterion(outputs, targets)\n",
    "                \n",
    "                ypred.append(outputs.cpu().numpy())\n",
    "                ytarget.append(targets.cpu().numpy())\n",
    "                del data, target\n",
    "\n",
    "                epoch_loss += loss.item()\n",
    "                cumloss = epoch_loss / (i+1)\n",
    "                pbar.set_description(f\"Loss {cumloss:.5f}\")\n",
    "                \n",
    "    ypred = np.concatenate(ypred)\n",
    "    ytarget = np.concatenate(ytarget)\n",
    "    gc.collect()  \n",
    "    \n",
    "    auc = roc_auc_score(ytarget.flatten(), ypred.flatten())\n",
    "    \n",
    "    return epoch_loss / len(iterator), auc\n",
    "\n",
    "gc.collect()"
   ]
  },
  {
   "cell_type": "code",
   "execution_count": null,
   "id": "59aad853",
   "metadata": {},
   "outputs": [],
   "source": [
    "train.shape, device"
   ]
  },
  {
   "cell_type": "code",
   "execution_count": null,
   "id": "4ebeaeed",
   "metadata": {},
   "outputs": [],
   "source": [
    "valid = train.loc[(train.session % 400)==11].copy().reset_index()\n",
    "valid.shape"
   ]
  },
  {
   "cell_type": "code",
   "execution_count": null,
   "id": "5301bc9f",
   "metadata": {},
   "outputs": [],
   "source": [
    "train = train.loc[(train.session % 400)!=11].reset_index()\n",
    "gc.collect()\n",
    "train.shape"
   ]
  },
  {
   "cell_type": "code",
   "execution_count": null,
   "id": "8cbffdd7",
   "metadata": {},
   "outputs": [],
   "source": [
    "train.head()"
   ]
  },
  {
   "cell_type": "code",
   "execution_count": null,
   "id": "ea39afca",
   "metadata": {},
   "outputs": [],
   "source": [
    "train.dtypes"
   ]
  },
  {
   "cell_type": "code",
   "execution_count": null,
   "id": "3a180538",
   "metadata": {},
   "outputs": [],
   "source": [
    "TRAIN = train[['lag1', 'lag2', 'lag3', 'lag4', 'lag5', 'lag6', 'lag7', 'lag8', 'lag9', 'lag10', 'hour']].values.copy()\n",
    "VALID = valid[['lag1', 'lag2', 'lag3', 'lag4', 'lag5', 'lag6', 'lag7', 'lag8', 'lag9', 'lag10', 'hour']].values.copy()\n",
    "TRAIN_TARGET = train[['lag0']].values.copy()\n",
    "VALID_TARGET = valid[['lag0']].values.copy()\n",
    "del train, valid; gc.collect()\n",
    "TRAIN.shape, VALID.shape"
   ]
  },
  {
   "cell_type": "code",
   "execution_count": null,
   "id": "d0003fff",
   "metadata": {},
   "outputs": [],
   "source": [
    "model = MatrixFactorization(n_aids=1855602+1, n_factors=256).to(device)\n",
    "optimizer = optim.Adam(model.parameters(), lr=0.000025)\n",
    "gc.collect()\n",
    "print(model)"
   ]
  },
  {
   "cell_type": "code",
   "execution_count": null,
   "id": "ba1af809",
   "metadata": {},
   "outputs": [],
   "source": [
    "from torch.utils.data import TensorDataset\n",
    "\n",
    "BS = 32*32*32\n",
    "\n",
    "train_ds = TensorDataset(torch.as_tensor(TRAIN).long(), torch.as_tensor(TRAIN_TARGET).long())\n",
    "train_dl = DataLoader(train_ds, BS, True, num_workers=4, drop_last=True, pin_memory=True)\n",
    "\n",
    "valid_ds = TensorDataset(torch.as_tensor(VALID).long(), torch.as_tensor(VALID_TARGET).long())\n",
    "valid_dl = DataLoader(valid_ds, BS, False, num_workers=4, drop_last=False, pin_memory=True)\n",
    "\n",
    "print(len(valid_ds), len(valid_dl))"
   ]
  },
  {
   "cell_type": "code",
   "execution_count": null,
   "id": "7f2b1d7e",
   "metadata": {},
   "outputs": [],
   "source": [
    "!mkdir model-weights\n",
    "for epoch in range(0, 15):\n",
    "    train_loop(model, train_dl, optimizer, 1000.); gc.collect()\n",
    "    valloss, auc = valid_loop(model, valid_dl); gc.collect()\n",
    "    torch.save(model.state_dict(), f'model-weights/fm_split_{epoch}_{auc:.4f}_v10.pt');gc.collect()\n",
    "    print(epoch, valloss, auc)"
   ]
  },
  {
   "cell_type": "markdown",
   "id": "c80d487f",
   "metadata": {},
   "source": [
    "# Load last iteration and extract embeddings"
   ]
  },
  {
   "cell_type": "code",
   "execution_count": null,
   "id": "a0447628",
   "metadata": {},
   "outputs": [],
   "source": [
    "# model = MatrixFactorization(n_aids=1855602+1, n_factors=256).to(device)\n",
    "# model.load_state_dict(torch.load('model-weights/fm_split_9_0.9674_v10.pt'))\n",
    "with torch.no_grad():\n",
    "    embeddings = model.aid_emb.weight\n",
    "    embeddings = torch.nn.functional.normalize(embeddings, p=2.0, dim=1, eps=1e-12)\n",
    "    embeddings = embeddings.detach().cpu().numpy()\n",
    "    \n",
    "np.save('oof/embbedings_fm10.npy', embeddings)\n",
    "embeddings.shape"
   ]
  }
 ],
 "metadata": {
  "kernelspec": {
   "display_name": "Python 3 (ipykernel)",
   "language": "python",
   "name": "python3"
  },
  "language_info": {
   "codemirror_mode": {
    "name": "ipython",
    "version": 3
   },
   "file_extension": ".py",
   "mimetype": "text/x-python",
   "name": "python",
   "nbconvert_exporter": "python",
   "pygments_lexer": "ipython3",
   "version": "3.8.10"
  }
 },
 "nbformat": 4,
 "nbformat_minor": 5
}
