{
 "cells": [
  {
   "cell_type": "code",
   "execution_count": null,
   "id": "fe2493d0",
   "metadata": {},
   "outputs": [],
   "source": [
    "import os\n",
    "os.environ[\"CUDA_VISIBLE_DEVICES\"]=\"0\"\n",
    "\n",
    "import pandas as pd\n",
    "pd.options.display.max_rows = 999\n",
    "import gc\n",
    "import numpy as np\n",
    "import cudf\n",
    "from glob import glob\n",
    "from tqdm import tqdm\n",
    "import gc\n",
    "import cudf\n",
    "\n",
    "def load_jsonl(load_path, max_load_chunk=100000):\n",
    "    chunks = pd.read_json(load_path, lines=True, chunksize=max_load_chunk)\n",
    "    \n",
    "    dfs = []\n",
    "    for e, chunk in tqdm(enumerate(chunks)):\n",
    "        if e > max_load_chunk:\n",
    "            break\n",
    "        event_dict = {\"session\": [], \"aid\": [], \"ts\": [], \"type\": []}\n",
    "        for session, events in zip(chunk[\"session\"].tolist(), chunk[\"events\"].tolist()):\n",
    "            for event in events:\n",
    "                event_dict[\"session\"].append(session)\n",
    "                event_dict[\"aid\"].append(event[\"aid\"])\n",
    "                event_dict[\"ts\"].append(event[\"ts\"])\n",
    "                event_dict[\"type\"].append(event[\"type\"])\n",
    "        dfs.append(pd.DataFrame(event_dict))\n",
    "\n",
    "    return pd.concat(dfs).reset_index(drop=True).astype({\"ts\": \"datetime64[ms]\"})"
   ]
  },
  {
   "cell_type": "code",
   "execution_count": null,
   "id": "ab81089d",
   "metadata": {},
   "outputs": [],
   "source": [
    "train = load_jsonl(\"../input/otto-recommender-system/train.jsonl\")\n",
    "test = load_jsonl(\"../input/otto-recommender-system/test.jsonl\")\n",
    "\n",
    "train['type'] = train['type'].map({'clicks':0, 'carts':1, 'orders':2}).astype('int8')\n",
    "test['type'] = test['type'].map({'clicks':0, 'carts':1, 'orders':2}).astype('int8')\n",
    "train.session = train.session.astype('int32')\n",
    "test.session = test.session.astype('int32')\n",
    "train.aid = train.aid.astype('int32')\n",
    "test.aid = test.aid.astype('int32')\n",
    "\n",
    "train.to_parquet('../input/train.parquet')\n",
    "test.to_parquet('../input/test.parquet')"
   ]
  },
  {
   "cell_type": "code",
   "execution_count": null,
   "id": "f4b2db39",
   "metadata": {},
   "outputs": [],
   "source": [
    "!nvidia-smi"
   ]
  },
  {
   "cell_type": "markdown",
   "id": "d6e4347b",
   "metadata": {},
   "source": [
    "# Starting Full dataset processing / Writting by batchs"
   ]
  },
  {
   "cell_type": "code",
   "execution_count": null,
   "id": "96a7f59f",
   "metadata": {},
   "outputs": [],
   "source": [
    "def freemem(df):\n",
    "    for col in df.columns:\n",
    "        if df[col].dtype == 'int64':\n",
    "            df[col] = df[col].astype('int32')\n",
    "        if df[col].dtype == 'Int64':\n",
    "            df[col] = df[col].astype('int32')\n",
    "        elif df[col].dtype == 'float64':\n",
    "            df[col] = df[col].astype('float32')\n",
    "        elif df[col].dtype == 'Float64':\n",
    "            df[col] = df[col].astype('float32')\n",
    "    gc.collect()\n",
    "    return\n",
    "\n",
    "maptype = {'clicks':0, 'carts':1, 'orders':2}"
   ]
  },
  {
   "cell_type": "code",
   "execution_count": null,
   "id": "330cc8e0",
   "metadata": {},
   "outputs": [],
   "source": [
    "train = cudf.read_parquet('../input/train.parquet')\n",
    "test = cudf.read_parquet('../input/test.parquet')\n",
    "\n",
    "train = train.sort_values(['session', 'ts', 'type'], ascending=[True, False, True]).reset_index(drop=True)\n",
    "train['n'] = train.groupby('session')['ts'].cumcount()\n",
    "test = test.sort_values(['session', 'ts', 'type'], ascending=[True, False, True]).reset_index(drop=True)\n",
    "test['n'] = test.groupby('session')['ts'].cumcount()\n",
    "\n",
    "print(train.shape, test.shape)\n",
    "\n",
    "train['ts'] = train['ts'].astype('int64') // 1000000\n",
    "test['ts'] = test['ts'].astype('int64') // 1000000\n",
    "freemem(train)\n",
    "freemem(test)\n",
    "gc.collect()"
   ]
  },
  {
   "cell_type": "code",
   "execution_count": null,
   "id": "24832688",
   "metadata": {},
   "outputs": [],
   "source": [
    "train.head()"
   ]
  },
  {
   "cell_type": "code",
   "execution_count": null,
   "id": "7ee60acd",
   "metadata": {},
   "outputs": [],
   "source": [
    "test.head()"
   ]
  },
  {
   "cell_type": "code",
   "execution_count": null,
   "id": "f10a20e8",
   "metadata": {
    "scrolled": true
   },
   "outputs": [],
   "source": [
    "dt = test.groupby('session')['aid'].count()\n",
    "dt = dt[dt>=2]\n",
    "dt = dt.sort_values().reset_index()\n",
    "dt = dt.loc[((dt['session'] % 10)==0) & (dt['aid']>=2) ]\n",
    "print(dt.shape)\n",
    "dt.tail(50)"
   ]
  },
  {
   "cell_type": "code",
   "execution_count": null,
   "id": "561790ca",
   "metadata": {},
   "outputs": [],
   "source": [
    "valid = test.loc[ test.session.isin(dt['session']) ].reset_index(drop=True)\n",
    "test = test.loc[~test.session.isin(dt['session']) ].reset_index(drop=True)\n",
    "\n",
    "valid.shape, test.shape"
   ]
  },
  {
   "cell_type": "code",
   "execution_count": null,
   "id": "9c5aa55f",
   "metadata": {},
   "outputs": [],
   "source": [
    "!rm -r fold\n",
    "!mkdir fold\n",
    "\n",
    "for n, s in enumerate(range(0, train.shape[0], 1900000)):\n",
    "    e = s+1900000\n",
    "    if e > train.shape[0]: e = train.shape[0]\n",
    "    tmp2 = train.iloc[s:e].copy().reset_index(drop=True)\n",
    "    if tmp2.shape[0]>0:\n",
    "        tmp2.to_parquet(f'fold/train-split{n}.parquet')\n",
    "    del tmp2\n",
    "gc.collect()"
   ]
  },
  {
   "cell_type": "code",
   "execution_count": null,
   "id": "65a4ab94",
   "metadata": {},
   "outputs": [],
   "source": [
    "for n, s in enumerate(range(0, valid.shape[0], 350000)):\n",
    "    e = s+350000\n",
    "    if e > valid.shape[0]: e = valid.shape[0]\n",
    "    tmp2 = valid.iloc[s:e].copy().reset_index(drop=True)\n",
    "    if tmp2.shape[0]>0:\n",
    "        tmp2.to_parquet(f'fold/valid-split{n}.parquet')\n",
    "    del tmp2\n",
    "gc.collect()"
   ]
  },
  {
   "cell_type": "code",
   "execution_count": null,
   "id": "d28224ba",
   "metadata": {},
   "outputs": [],
   "source": [
    "for n, s in enumerate(range(0, test.shape[0], 1800000)):\n",
    "    e = s+1800000\n",
    "    if e > test.shape[0]: e = test.shape[0]\n",
    "    tmp2 = test.iloc[s:e].copy().reset_index(drop=True)\n",
    "    if tmp2.shape[0]>0:\n",
    "        tmp2.to_parquet(f'fold/test-split{n}.parquet')\n",
    "    del tmp2\n",
    "gc.collect()"
   ]
  },
  {
   "cell_type": "code",
   "execution_count": null,
   "id": "c2fb1593",
   "metadata": {},
   "outputs": [],
   "source": []
  }
 ],
 "metadata": {
  "kernelspec": {
   "display_name": "Python 3 (ipykernel)",
   "language": "python",
   "name": "python3"
  },
  "language_info": {
   "codemirror_mode": {
    "name": "ipython",
    "version": 3
   },
   "file_extension": ".py",
   "mimetype": "text/x-python",
   "name": "python",
   "nbconvert_exporter": "python",
   "pygments_lexer": "ipython3",
   "version": "3.8.10"
  }
 },
 "nbformat": 4,
 "nbformat_minor": 5
}
